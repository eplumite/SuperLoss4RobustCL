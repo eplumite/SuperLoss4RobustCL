{
  "nbformat": 4,
  "nbformat_minor": 0,
  "metadata": {
    "colab": {
      "name": "Lungs_dataset__Unet_full_model.ipynb",
      "provenance": [],
      "collapsed_sections": [],
      "toc_visible": true
    },
    "kernelspec": {
      "display_name": "Python 3",
      "name": "python3"
    }
  },
  "cells": [
    {
      "cell_type": "code",
      "metadata": {
        "colab": {
          "base_uri": "https://localhost:8080/"
        },
        "id": "UgjYmh3NblK5",
        "outputId": "e71120e0-3eeb-4bf0-bd3e-cb916f884e65"
      },
      "source": [
        "from google.colab import drive\n",
        "drive.mount('/content/drive')"
      ],
      "execution_count": null,
      "outputs": [
        {
          "output_type": "stream",
          "text": [
            "Mounted at /content/drive\n"
          ],
          "name": "stdout"
        }
      ]
    },
    {
      "cell_type": "code",
      "metadata": {
        "id": "2D6Hh5W11RhV"
      },
      "source": [
        "import numpy as np\n",
        "import matplotlib.pyplot as plt\n",
        "%matplotlib inline\n",
        "import os\n",
        "from sklearn.model_selection import train_test_split\n",
        "from pathlib import Path\n",
        "import torchvision\n",
        "import torch\n",
        "from torchvision import datasets, transforms, models\n",
        "from torch.utils.data import Dataset, DataLoader\n",
        "from PIL import Image\n",
        "import random\n",
        "import cv2\n",
        "\n",
        "import pandas as pd\n",
        "import shutil"
      ],
      "execution_count": null,
      "outputs": []
    },
    {
      "cell_type": "markdown",
      "metadata": {
        "id": "zX6Hw7zh1Rhj"
      },
      "source": [
        "### Dataloader"
      ]
    },
    {
      "cell_type": "code",
      "metadata": {
        "id": "TU61wcDt1Rhj"
      },
      "source": [
        "class MyDataset(Dataset):\n",
        "    def __init__(self, images_folder, masks_folder,\n",
        "                 img_transform=None, masks_transform=None):\n",
        "        super(Dataset, self).__init__()\n",
        "        \n",
        "        self.images_folder = images_folder\n",
        "        self.masks_folder = masks_folder\n",
        "\n",
        "        self.images_names = np.sort(os.listdir(images_folder))\n",
        "        self.masks_names = np.sort(os.listdir(masks_folder))\n",
        "        \n",
        "        self.img_transform = img_transform\n",
        "        self.masks_transform = masks_transform\n",
        "\n",
        "    def __len__(self):\n",
        "        return len(self.images_names)\n",
        "    \n",
        "    def __getitem__(self, idx):\n",
        "        item_image = Image.open(os.path.join(self.images_folder,\n",
        "                                            self.images_names[idx])).convert('RGB')\n",
        "        item_mask = Image.open(os.path.join(self.masks_folder,\n",
        "                                              self.masks_names[idx])).convert('RGB')\n",
        "        \n",
        "        SEED = np.random.randint(123456789)\n",
        "        if self.img_transform is not None:\n",
        "            random.seed(SEED)\n",
        "            item_image = self.img_transform(item_image)\n",
        "        if self.masks_transform is not None:  \n",
        "            random.seed(SEED)\n",
        "            item_mask = self.masks_transform(item_mask)\n",
        "\n",
        "        return item_image, item_mask"
      ],
      "execution_count": null,
      "outputs": []
    },
    {
      "cell_type": "code",
      "metadata": {
        "id": "PtUlo3oKWsaP"
      },
      "source": [
        "# Put your prefix of data: dataset_med\n",
        "# for example: '/content/drive/MyDrive/ML_project/dataset_med_noise_0'\n",
        "\n",
        "# Choose noise: [0, 0.4, 0.8]\n",
        "\n",
        "coef_noise = 0\n",
        "\n",
        "prefix_dataset_normal = '/content/drive/MyDrive/ML_project/dataset_med_noise_0'\n",
        "prefix_dataset_noise = '/content/drive/MyDrive/ML_project/dataset_med_noise_' + str(coef_noise)"
      ],
      "execution_count": null,
      "outputs": []
    },
    {
      "cell_type": "code",
      "metadata": {
        "id": "vO217del1Rhj"
      },
      "source": [
        "trans = transforms.Compose([\n",
        "    transforms.RandomRotation(5),\n",
        "    transforms.RandomHorizontalFlip(),\n",
        "    transforms.RandomVerticalFlip(),\n",
        "    transforms.ToTensor(),\n",
        "])\n",
        "\n",
        "train_set = MyDataset(images_folder = prefix_dataset_normal + '/train/images/', \n",
        "                      masks_folder = prefix_dataset_noise + '/train/masks',\n",
        "                      img_transform = trans, masks_transform = trans)\n",
        "\n",
        "\n",
        "val_set = MyDataset(images_folder = prefix_dataset_normal + '/val/images/', \n",
        "                      masks_folder = prefix_dataset_normal + '/val/masks',\n",
        "                      img_transform = trans, masks_transform = trans)"
      ],
      "execution_count": null,
      "outputs": []
    },
    {
      "cell_type": "code",
      "metadata": {
        "colab": {
          "base_uri": "https://localhost:8080/"
        },
        "id": "XUckPuRO1Rhl",
        "outputId": "da8c3b05-a917-4c52-a331-dcbc81a25c9c"
      },
      "source": [
        "print(len(train_set.images_names))\n",
        "print(len(train_set.masks_names))\n",
        "print(len(val_set.images_names))\n",
        "print(len(val_set.masks_names))"
      ],
      "execution_count": null,
      "outputs": [
        {
          "output_type": "stream",
          "text": [
            "186\n",
            "186\n",
            "81\n",
            "81\n"
          ],
          "name": "stdout"
        }
      ]
    },
    {
      "cell_type": "markdown",
      "metadata": {
        "id": "7LHo91txUVrQ"
      },
      "source": [
        "### Let's change the directory for needed files:"
      ]
    },
    {
      "cell_type": "code",
      "metadata": {
        "colab": {
          "base_uri": "https://localhost:8080/"
        },
        "id": "5cgeUXfmCciR",
        "outputId": "2a7cbd51-09e3-4a5f-943e-4886cc760e78"
      },
      "source": [
        "cd /content/drive/MyDrive/ML_project "
      ],
      "execution_count": null,
      "outputs": [
        {
          "output_type": "stream",
          "text": [
            "/content/drive/MyDrive/ML_project\n"
          ],
          "name": "stdout"
        }
      ]
    },
    {
      "cell_type": "code",
      "metadata": {
        "colab": {
          "base_uri": "https://localhost:8080/"
        },
        "id": "-s3ip7Tr1Rhl",
        "outputId": "1ad19f7f-99ea-47de-f3ec-fa454ef65707"
      },
      "source": [
        "image_datasets = {\n",
        "    'train': train_set, 'val': val_set\n",
        "}\n",
        "\n",
        "batch_size_train = 4\n",
        "batch_size_val = batch_size_train\n",
        "\n",
        "dataloaders = {\n",
        "    'train': DataLoader(train_set, batch_size=batch_size_train, shuffle=True, num_workers=0),\n",
        "    'val': DataLoader(val_set, batch_size=batch_size_val, shuffle=True, num_workers=0)\n",
        "}\n",
        "\n",
        "dataset_sizes = {\n",
        "    x: len(image_datasets[x]) for x in image_datasets.keys()\n",
        "}\n",
        "\n",
        "dataset_sizes"
      ],
      "execution_count": null,
      "outputs": [
        {
          "output_type": "execute_result",
          "data": {
            "text/plain": [
              "{'train': 186, 'val': 81}"
            ]
          },
          "metadata": {
            "tags": []
          },
          "execution_count": 9
        }
      ]
    },
    {
      "cell_type": "code",
      "metadata": {
        "colab": {
          "base_uri": "https://localhost:8080/"
        },
        "id": "0sqsx54T1Rhm",
        "outputId": "bd125415-dbef-4c52-cad8-bcdedd59110d"
      },
      "source": [
        "# See example of images\n",
        "\n",
        "import torchvision.utils\n",
        "\n",
        "def reverse_transform(inp):\n",
        "    inp = inp.numpy().transpose((1, 2, 0))\n",
        "    inp = np.clip(inp, 0, 1)\n",
        "    inp = (inp * 255).astype(np.uint8)\n",
        "    \n",
        "    return inp\n",
        "\n",
        "# Get a batch of training data\n",
        "inputs, masks = next(iter(dataloaders['train']))\n",
        "\n",
        "print(inputs.shape, masks.shape)\n",
        "for x in [inputs.numpy(), masks.numpy()]:\n",
        "    print(x.min(), x.max(), x.mean(), x.std())"
      ],
      "execution_count": null,
      "outputs": [
        {
          "output_type": "stream",
          "text": [
            "torch.Size([4, 3, 512, 512]) torch.Size([4, 3, 512, 512])\n",
            "0.0 1.0 0.06723806 0.19605105\n",
            "0.0 1.0 0.24234772 0.4285032\n"
          ],
          "name": "stdout"
        }
      ]
    },
    {
      "cell_type": "code",
      "metadata": {
        "id": "6A1_Hio4JMU5",
        "colab": {
          "base_uri": "https://localhost:8080/",
          "height": 286
        },
        "outputId": "7230d96b-643e-46ad-bcfb-95ef22dc4d3d"
      },
      "source": [
        "plt.imshow(reverse_transform(inputs[0]))"
      ],
      "execution_count": null,
      "outputs": [
        {
          "output_type": "execute_result",
          "data": {
            "text/plain": [
              "<matplotlib.image.AxesImage at 0x7fa969e3bf90>"
            ]
          },
          "metadata": {
            "tags": []
          },
          "execution_count": 11
        },
        {
          "output_type": "display_data",
          "data": {
            "image/png": "[encoded data removed]",
            "text/plain": [
              "<Figure size 432x288 with 1 Axes>"
            ]
          },
          "metadata": {
            "tags": [],
            "needs_background": "light"
          }
        }
      ]
    },
    {
      "cell_type": "code",
      "metadata": {
        "id": "ZGpiHflJJNSb",
        "colab": {
          "base_uri": "https://localhost:8080/",
          "height": 286
        },
        "outputId": "c3b12f53-3b17-4caa-a2f4-f23bd9488909"
      },
      "source": [
        "plt.imshow(reverse_transform(masks[0]))"
      ],
      "execution_count": null,
      "outputs": [
        {
          "output_type": "execute_result",
          "data": {
            "text/plain": [
              "<matplotlib.image.AxesImage at 0x7fa9688dcc90>"
            ]
          },
          "metadata": {
            "tags": []
          },
          "execution_count": 12
        },
        {
          "output_type": "display_data",
          "data": {
            "image/png": "[encoded data removed]",
            "text/plain": [
              "<Figure size 432x288 with 1 Axes>"
            ]
          },
          "metadata": {
            "tags": [],
            "needs_background": "light"
          }
        }
      ]
    },
    {
      "cell_type": "markdown",
      "metadata": {
        "id": "iriOuYg01Rhn"
      },
      "source": [
        "### Model"
      ]
    },
    {
      "cell_type": "code",
      "metadata": {
        "id": "KT-4MsHJc7lE"
      },
      "source": [
        "import math\n",
        "import copy\n",
        "import Superloss\n",
        "import loss_calculation\n",
        "from loss_calculation import calc_loss\n",
        "from train_with_loss import train_model_with_loss\n",
        "from train_with_superloss import train_model_with_superloss\n",
        "from collections import defaultdict\n",
        "import torch.nn.functional as F  "
      ],
      "execution_count": null,
      "outputs": []
    },
    {
      "cell_type": "code",
      "metadata": {
        "id": "lb9HPToF1Rho"
      },
      "source": [
        "import warnings\n",
        "warnings.filterwarnings('ignore')"
      ],
      "execution_count": null,
      "outputs": []
    },
    {
      "cell_type": "code",
      "metadata": {
        "colab": {
          "base_uri": "https://localhost:8080/"
        },
        "id": "rwqEqlH51Rho",
        "scrolled": true,
        "outputId": "ef5a7661-bedc-4aa2-b983-a3cf90146e0b"
      },
      "source": [
        "import torch\n",
        "import torch.optim as optim\n",
        "from torch.optim import lr_scheduler\n",
        "import time\n",
        "import copy\n",
        "import unet\n",
        "import helper\n",
        "import math\n",
        "\n",
        "device = torch.device(\"cuda:0\" if torch.cuda.is_available() else \"cpu\")\n",
        "print(device)\n",
        "\n",
        "num_class = 3\n",
        "\n",
        "model = unet.UNet(num_class).to(device)\n",
        "\n",
        "# Optimizer\n",
        "optimizer_ft = optim.Adam(model.parameters(), lr=1e-4)\n",
        "exp_lr_scheduler = lr_scheduler.StepLR(optimizer_ft, step_size=15, gamma=0.1)"
      ],
      "execution_count": null,
      "outputs": [
        {
          "output_type": "stream",
          "text": [
            "cuda:0\n"
          ],
          "name": "stdout"
        }
      ]
    },
    {
      "cell_type": "markdown",
      "metadata": {
        "id": "CZLKFXW4GShI"
      },
      "source": [
        "## If we want to train with usual loss:"
      ]
    },
    {
      "cell_type": "code",
      "metadata": {
        "id": "B3KqNvLrAfkq"
      },
      "source": [
        "# 1)name_model:  \n",
        "#     - 'Unet' \n",
        "#     - 'MiDaS'\n",
        "\n",
        "# 2)regime:  \n",
        "#     - 'mean' - per image\n",
        "#     - 'none' - per pixel\n",
        "#\n",
        "# 3) weights:\n",
        "#    - yes (want to save)\n",
        "#    - no (don't want to save)\n",
        "# 4) dataloaders - name of dataloaders\n",
        "# 5) lam - lambda coef for superloss, default = 1\n",
        "\n",
        "\n",
        "num_epochs = 30\n",
        "name_model = 'Unet'\n",
        "regime = 'none'  \n",
        "\n",
        "model, loss_train, loss_val, accuracy_train, accuracy_val, iou_train, iou_val = \\\n",
        "train_model_with_loss(model = model,\n",
        "                      model_name = name_model, \n",
        "                      regime = regime, \n",
        "                      weights = 'yes',\n",
        "                      lam = 1, \n",
        "                      coef_noise = coef_noise, \n",
        "                      dataloaders = dataloaders,\n",
        "                      device = device,\n",
        "                      optimizer = optimizer_ft, \n",
        "                      scheduler = exp_lr_scheduler,\n",
        "                      batch_size = batch_size_train, \n",
        "                      num_epochs = num_epochs)\n",
        "\n",
        "# If train with usual loss:\n",
        "df = pd.DataFrame(columns=['loss_train', 'loss_val', 'accuracy_train', 'accuracy_val', 'iou_train', 'iou_val'])\n",
        "\n",
        "df['loss_train'] = loss_train\n",
        "df['loss_val'] = loss_val\n",
        "\n",
        "df['accuracy_train'] = accuracy_train\n",
        "df['accuracy_val'] = accuracy_val\n",
        "\n",
        "df['iou_train'] = iou_train\n",
        "df['iou_val'] = iou_val\n",
        "\n",
        "# Name of df file: \n",
        "#     - option: loss or superloss\n",
        "#     - coef_noise: you initialized it earlier\n",
        "if regime == 'mean':\n",
        "  regime_name = 'image'\n",
        "if regime == 'none':\n",
        "  regime_name = 'pixel'\n",
        "\n",
        "df.to_csv('./metrics_' + name_model + '_Brain_' + regime_name + '_loss_' + str(coef_noise) + '.csv', index=None)"
      ],
      "execution_count": 1,
      "outputs": []
    },
    {
      "cell_type": "markdown",
      "metadata": {
        "id": "PdAj5-WRGPLh"
      },
      "source": [
        "## If we want to train with SUPERLOSS:"
      ]
    },
    {
      "cell_type": "code",
      "metadata": {
        "id": "HPuDgERmunK9"
      },
      "source": [
        "\n",
        "# 1)name_model:  \n",
        "#     - 'Unet' \n",
        "#     - 'MiDaS'\n",
        "\n",
        "# 2)regime:  \n",
        "#     - 'mean' - per image\n",
        "#     - 'none' - per pixel\n",
        "#\n",
        "# 3) weights:\n",
        "#    - yes (want to save)\n",
        "#    - no (don't want to save)\n",
        "# 4) dataloaders - name of dataloaders\n",
        "# 5) lam - lambda coef for superloss, [0.5, 1, 1.5]\n",
        "\n",
        "\n",
        "num_epochs = 30\n",
        "name_model = 'Unet'\n",
        "regime = 'mean'\n",
        "lam = 1\n",
        "\n",
        "model, us_loss_train, us_loss_val, acc_train, acc_val, supp_loss_train, supp_loss_val, iou_train, iou_val = \\\n",
        "train_model_with_superloss(model = model, \n",
        "                           model_name = name_model, \n",
        "                           regime = regime, \n",
        "                           weights = 'yes', \n",
        "                           lam = lam, \n",
        "                           coef_noise = coef_noise,\n",
        "                           dataloaders = dataloaders,\n",
        "                           device = device,\n",
        "                           optimizer = optimizer_ft, \n",
        "                           scheduler = exp_lr_scheduler,\n",
        "                           batch_size = batch_size_train,\n",
        "                           num_epochs = num_epochs)\n",
        "\n",
        "\n",
        "# If train with SUPERLOSS:\n",
        "df = pd.DataFrame(columns=['us_loss_train', 'us_loss_val', 'acc_train', 'acc_val', 'supp_loss_train', 'supp_loss_val', 'iou_train', 'iou_val'])\n",
        "\n",
        "df['us_loss_train'] = us_loss_train\n",
        "df['us_loss_val'] = us_loss_val\n",
        "\n",
        "df['acc_train'] = acc_train\n",
        "df['acc_val'] = acc_val\n",
        "\n",
        "df['supp_loss_train'] = supp_loss_train\n",
        "df['supp_loss_val'] = supp_loss_val\n",
        "\n",
        "df['iou_train'] = iou_train\n",
        "df['iou_val'] = iou_val\n",
        "\n",
        "# Name of df file: \n",
        "#     - option: loss or superloss\n",
        "#     - coef_noise: you initialized it earlier\n",
        "\n",
        "if regime == 'mean':\n",
        "  regime_name = 'image'\n",
        "if regime == 'none':\n",
        "  regime_name = 'pixel'\n",
        "\n",
        "df.to_csv('./metrics_' + name_model + '_Brain_' + regime_name + '_superloss_' + str(coef_noise) + '_lam_' + str(lam) + '.csv', index=None)"
      ],
      "execution_count": 2,
      "outputs": []
    },
    {
      "cell_type": "code",
      "metadata": {
        "id": "mqd71W8fy_yh"
      },
      "source": [
        ""
      ],
      "execution_count": null,
      "outputs": []
    },
    {
      "cell_type": "code",
      "metadata": {
        "id": "lYsm-Bu8IiwE"
      },
      "source": [
        ""
      ],
      "execution_count": null,
      "outputs": []
    },
    {
      "cell_type": "code",
      "metadata": {
        "id": "UMo58vVOzAt6"
      },
      "source": [
        "## Read data from csv    ############ SUPERLOSS #################\n",
        "\n",
        "## example:\n",
        "name_model = 'Unet'\n",
        "regime_name = 'image'\n",
        "coef_noise = 0\n",
        "lam = 1\n",
        "\n",
        "data = pd.read_csv('./metrics_' + name_model + '_Brain_' + regime_name + '_superloss_' + str(coef_noise) + '_lam_' + str(lam) + '.csv')\n",
        "\n",
        "##### for superloss #########\n",
        "us_loss_train = data['us_loss_train'].values\n",
        "us_loss_val = data['us_loss_val'].values\n",
        "\n",
        "acc_train = data['acc_train'].values\n",
        "acc_val = data['acc_val'].values\n",
        "\n",
        "supp_loss_train = data['supp_loss_train'].values\n",
        "supp_loss_val = data['supp_loss_val'].values\n",
        "\n",
        "iou_train_sl = data['iou_train'].values\n",
        "iou_val_sl = data['iou_val'].values"
      ],
      "execution_count": null,
      "outputs": []
    },
    {
      "cell_type": "code",
      "metadata": {
        "id": "1tlxRa2TIi-y"
      },
      "source": [
        " ############ SUPERLOSS #################\n",
        "    \n",
        "fig, (ax1, ax2, ax3, ax4) = plt.subplots(1, 4, figsize=(15, 5))\n",
        "ax1.plot(us_loss_train, label = 'train loss')\n",
        "ax1.plot(us_loss_val,label = 'val loss')\n",
        "ax1.set_title('Usual loss (with Superloss)')\n",
        "ax1.legend()\n",
        "\n",
        "ax2.plot(acc_train, label = 'DICE_train')\n",
        "ax2.plot(acc_val,label = 'DICE_val')\n",
        "ax2.set_title('DICE (with Superloss)')\n",
        "ax2.legend()\n",
        "\n",
        "ax3.plot(iou_train_sl, label = 'IOU_train')\n",
        "ax3.plot(iou_val_sl,label = 'IOU_val')\n",
        "ax3.set_title('IOU (with Superloss)')\n",
        "ax3.legend()\n",
        "\n",
        "ax4.plot(supp_loss_train,label = 'train super loss')\n",
        "ax4.plot(supp_loss_val,label = 'val super loss')\n",
        "ax4.set_title('Superloss')\n",
        "ax4.legend()"
      ],
      "execution_count": null,
      "outputs": []
    },
    {
      "cell_type": "code",
      "metadata": {
        "id": "YPfuEszZouHT"
      },
      "source": [
        ""
      ],
      "execution_count": null,
      "outputs": []
    },
    {
      "cell_type": "code",
      "metadata": {
        "id": "aHEQlD8DkI6g"
      },
      "source": [
        "## Read data from csv    ############ LOSS #################\n",
        "\n",
        "## example:\n",
        "name_model = 'Unet'\n",
        "regime_name = 'image'\n",
        "# coef_noise = 0\n",
        "lam = 1\n",
        "\n",
        "data = pd.read_csv('./metrics_' + name_model + '_Brain_' + regime_name + '_loss_' + str(coef_noise) + '_lam_' + str(lam) + '.csv')\n",
        "\n",
        "##### for loss #########\n",
        "loss_train = data['loss_train'].values\n",
        "loss_val = data['loss_val'].values\n",
        "\n",
        "accuracy_train = data['accuracy_train'].values\n",
        "accuracy_val = data['accuracy_val'].values\n",
        "\n",
        "iou_train_l = data['iou_train'].values\n",
        "iou_val_l = data['iou_val'].values"
      ],
      "execution_count": null,
      "outputs": []
    },
    {
      "cell_type": "code",
      "metadata": {
        "id": "KH4ORGy9oxAb"
      },
      "source": [
        "############ LOSS #################\n",
        "\n",
        "fig, (ax1, ax2, ax3) = plt.subplots(1, 3, figsize=(15, 5))\n",
        "ax1.plot(loss_train, label = 'train loss')\n",
        "ax1.plot(loss_val,label = 'val loss')\n",
        "ax1.set_title('Loss')\n",
        "ax1.legend()\n",
        "\n",
        "ax2.plot(accuracy_train, label = 'DICE_train')\n",
        "ax2.plot(accuracy_val,label = 'DICE_val')\n",
        "ax2.set_title('DICE')\n",
        "ax2.legend()\n",
        "\n",
        "ax3.plot(iou_train_l, label = 'IOU_train')\n",
        "ax3.plot(iou_val_l,label = 'IOU_val')\n",
        "ax3.set_title('IOU')\n",
        "ax3.legend()"
      ],
      "execution_count": null,
      "outputs": []
    },
    {
      "cell_type": "code",
      "metadata": {
        "id": "sDNp_x_9owxy"
      },
      "source": [
        "######## COMPARISON OF LOSS AND SUPERLOSS ############\n",
        "\n",
        "fig, (ax1, ax2, ax3) = plt.subplots(1, 3, figsize=(15, 5))\n",
        "\n",
        "ax1.plot(us_loss_val, label = 'SL')\n",
        "ax1.plot(loss_val,label = 'L')\n",
        "ax1.set_title('Usual loss')\n",
        "ax1.legend()\n",
        "\n",
        "ax2.plot(acc_val, label = 'SL')\n",
        "ax2.plot(accuracy_val,label = 'L')\n",
        "ax2.set_title('DICE')\n",
        "ax2.legend()\n",
        "\n",
        "ax3.plot(iou_val_sl, label = 'SL')\n",
        "ax3.plot(iou_val_l,label = 'L')\n",
        "ax3.set_title('IOU')\n",
        "ax3.legend()"
      ],
      "execution_count": null,
      "outputs": []
    },
    {
      "cell_type": "code",
      "metadata": {
        "id": "B7NLhvq1kI6h"
      },
      "source": [
        ""
      ],
      "execution_count": null,
      "outputs": []
    },
    {
      "cell_type": "code",
      "metadata": {
        "id": "tOdwRPh_63dt"
      },
      "source": [
        "# prediction\n",
        "\n",
        "import math\n",
        "import helper\n",
        "from helper import plot_side_by_side\n",
        "\n",
        "model.eval()   \n",
        "\n",
        "val_batch = torch.utils.data.DataLoader(val_set,\n",
        "                                            batch_size=3,\n",
        "                                            shuffle=True)\n",
        "        \n",
        "inputs, labels = next(iter(val_batch))\n",
        "inputs = inputs.to(device)\n",
        "labels = labels.to(device)\n",
        "\n",
        "pred = model(inputs)\n",
        "\n",
        "pred = pred.data.cpu().numpy()\n",
        "print(pred.shape)\n",
        "\n",
        "input_images_rgb = [reverse_transform(x) for x in inputs.cpu()]\n",
        "\n",
        "target_masks_rgb = [helper.masks_to_colorimg(x) for x in labels.cpu().numpy()]\n",
        "pred_rgb = [helper.masks_to_colorimg(x) for x in pred]\n",
        "\n",
        "plot_side_by_side([input_images_rgb, target_masks_rgb, pred_rgb])"
      ],
      "execution_count": 3,
      "outputs": []
    },
    {
      "cell_type": "code",
      "metadata": {
        "id": "efcg4M89Iiht"
      },
      "source": [
        ""
      ],
      "execution_count": null,
      "outputs": []
    },
    {
      "cell_type": "code",
      "metadata": {
        "id": "4G-bw9IoIbdu"
      },
      "source": [
        ""
      ],
      "execution_count": null,
      "outputs": []
    },
    {
      "cell_type": "code",
      "metadata": {
        "id": "ki68xeJyz3yj"
      },
      "source": [
        ""
      ],
      "execution_count": null,
      "outputs": []
    }
  ]
}